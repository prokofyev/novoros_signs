{
 "cells": [
  {
   "cell_type": "code",
   "execution_count": 1,
   "id": "d6fbfbb3",
   "metadata": {},
   "outputs": [
    {
     "name": "stdout",
     "output_type": "stream",
     "text": [
      "--2022-10-19 15:15:27--  https://lodmedia.hb.bizmrg.com/case_files/853908/test_dataset_test.zip\n",
      "Распознаётся lodmedia.hb.bizmrg.com (lodmedia.hb.bizmrg.com)… 217.69.142.100\n",
      "Подключение к lodmedia.hb.bizmrg.com (lodmedia.hb.bizmrg.com)|217.69.142.100|:443... соединение установлено.\n",
      "HTTP-запрос отправлен. Ожидание ответа… 503 Service Unavailable\n",
      "2022-10-19 15:15:27 ОШИБКА 503: Service Unavailable.\n",
      "\n"
     ]
    }
   ],
   "source": [
    "!wget https://lodmedia.hb.bizmrg.com/case_files/853908/test_dataset_test.zip\n",
    "!unzip -q test_dataset_test.zip"
   ]
  },
  {
   "cell_type": "code",
   "execution_count": 2,
   "id": "23746a7e",
   "metadata": {},
   "outputs": [],
   "source": [
    "from PIL import Image\n",
    "import torch\n",
    "import os\n",
    "import pandas as pd\n",
    "\n",
    "from transformers import OwlViTProcessor, OwlViTForObjectDetection"
   ]
  },
  {
   "cell_type": "code",
   "execution_count": 3,
   "id": "18a0d455",
   "metadata": {},
   "outputs": [],
   "source": [
    "os.environ[\"TOKENIZERS_PARALLELISM\"] = \"false\""
   ]
  },
  {
   "cell_type": "code",
   "execution_count": 4,
   "id": "0b86187c",
   "metadata": {},
   "outputs": [],
   "source": [
    "processor = OwlViTProcessor.from_pretrained(\"google/owlvit-base-patch32\")\n",
    "model = OwlViTForObjectDetection.from_pretrained(\"google/owlvit-base-patch32\")"
   ]
  },
  {
   "cell_type": "code",
   "execution_count": 5,
   "id": "e6bd7666",
   "metadata": {},
   "outputs": [],
   "source": [
    "texts = [[\"speed sign\"]]\n",
    "score_threshold = 0.005\n",
    "max_size_threshold = 100\n",
    "min_size_threshold = 15"
   ]
  },
  {
   "cell_type": "code",
   "execution_count": 6,
   "id": "968e1e44",
   "metadata": {},
   "outputs": [],
   "source": [
    "data_type = \"test\"\n",
    "data = pd.read_csv(f\"{data_type}.csv\")"
   ]
  },
  {
   "cell_type": "code",
   "execution_count": 7,
   "id": "fb7edc1a",
   "metadata": {
    "scrolled": true
   },
   "outputs": [],
   "source": [
    "for r in data.iterrows():\n",
    "    if os.path.exists(f\"{data_type}/{r[1].id}\"):\n",
    "        continue\n",
    "    \n",
    "    image = Image.open(f\"{data_type}/{r[1].img}\")\n",
    "    \n",
    "    inputs = processor(text=texts, images=image, return_tensors=\"pt\")\n",
    "    outputs = model(**inputs)\n",
    "    \n",
    "    target_sizes = torch.Tensor([image.size[::-1]])\n",
    "    results = processor.post_process(outputs=outputs, target_sizes=target_sizes)\n",
    "\n",
    "    text = texts[0]\n",
    "    boxes, scores, labels = results[0][\"boxes\"], results[0][\"scores\"], results[0][\"labels\"]\n",
    "\n",
    "    i = 0\n",
    "    for box, score, label in zip(boxes, scores, labels):\n",
    "        box = [round(i, 2) for i in box.tolist()]\n",
    "        if score > score_threshold and \\\n",
    "            min_size_threshold < box[2] - box[0] < max_size_threshold and \\\n",
    "            min_size_threshold < box[3] - box[1] < max_size_threshold:\n",
    "                os.makedirs(f\"{data_type}/{r[1].id}\", exist_ok=True)\n",
    "                image.crop(box).save(f\"{data_type}/{r[1].id}/{i}.jpg\")\n",
    "                i += 1"
   ]
  },
  {
   "cell_type": "code",
   "execution_count": null,
   "id": "c021a64f",
   "metadata": {},
   "outputs": [],
   "source": []
  }
 ],
 "metadata": {
  "kernelspec": {
   "display_name": "Python 3 (ipykernel)",
   "language": "python",
   "name": "python3"
  },
  "language_info": {
   "codemirror_mode": {
    "name": "ipython",
    "version": 3
   },
   "file_extension": ".py",
   "mimetype": "text/x-python",
   "name": "python",
   "nbconvert_exporter": "python",
   "pygments_lexer": "ipython3",
   "version": "3.10.6"
  }
 },
 "nbformat": 4,
 "nbformat_minor": 5
}
