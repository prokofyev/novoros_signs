{
 "cells": [
  {
   "cell_type": "code",
   "execution_count": 231,
   "id": "84a92712",
   "metadata": {},
   "outputs": [],
   "source": [
    "import torchvision.models as models\n",
    "from torchvision import transforms\n",
    "import pytorch_lightning as pl\n",
    "import torch\n",
    "\n",
    "import pandas as pd\n",
    "import glob\n",
    "import json\n",
    "import tqdm\n",
    "\n",
    "import matplotlib.pyplot as plt"
   ]
  },
  {
   "cell_type": "code",
   "execution_count": 13,
   "id": "54154949",
   "metadata": {},
   "outputs": [],
   "source": [
    "transform = transforms.Compose(\n",
    "[\n",
    "    transforms.ToTensor(),\n",
    "    transforms.Resize((28, 28)),\n",
    "    # transforms.Normalize((0.1307,), (0.3081,))\n",
    "])"
   ]
  },
  {
   "cell_type": "code",
   "execution_count": 57,
   "id": "d3af1a4c",
   "metadata": {},
   "outputs": [],
   "source": [
    "train_dataset_classes = ['1.10',\n",
    " '1.16',\n",
    " '1.17',\n",
    " '1.2',\n",
    " '1.20.1',\n",
    " '1.20.2',\n",
    " '1.22',\n",
    " '1.25',\n",
    " '1.34.3',\n",
    " '2.1',\n",
    " '2.3.1',\n",
    " '2.4',\n",
    " '3.1',\n",
    " '3.11',\n",
    " '3.12',\n",
    " '3.13',\n",
    " '3.2',\n",
    " '3.20',\n",
    " '3.24',\n",
    " '3.25',\n",
    " '3.27',\n",
    " '3.28',\n",
    " '3.4',\n",
    " '4.1.1',\n",
    " '4.1.4',\n",
    " '4.2.1',\n",
    " '4.2.3',\n",
    " '5.15.1',\n",
    " '5.15.3',\n",
    " '5.15.5',\n",
    " '5.15.6',\n",
    " '5.16',\n",
    " '5.18',\n",
    " '5.19.1',\n",
    " '5.19.2',\n",
    " '5.21',\n",
    " '5.23.1',\n",
    " '5.5',\n",
    " '5.6',\n",
    " '5.9',\n",
    " '6.10.1',\n",
    " '6.11',\n",
    " '6.12',\n",
    " '6.13',\n",
    " '6.16',\n",
    " '7.12',\n",
    " '7.3',\n",
    " '8.2.1',\n",
    " '8.2.2',\n",
    " '8.2.3',\n",
    " '8.2.4',\n",
    " '8.22.1',\n",
    " '8.22.2',\n",
    " '8.22.3',\n",
    " '8.23']"
   ]
  },
  {
   "cell_type": "code",
   "execution_count": 58,
   "id": "679e302d",
   "metadata": {},
   "outputs": [
    {
     "data": {
      "text/plain": [
       "55"
      ]
     },
     "execution_count": 58,
     "metadata": {},
     "output_type": "execute_result"
    }
   ],
   "source": [
    "len(train_dataset_classes)"
   ]
  },
  {
   "cell_type": "code",
   "execution_count": 59,
   "id": "d1af0260",
   "metadata": {},
   "outputs": [],
   "source": [
    "class ImagenetTransferLearning(pl.LightningModule):\n",
    "    def __init__(self):\n",
    "        super().__init__()\n",
    "\n",
    "        backbone = models.resnet50(pretrained=True)\n",
    "        num_filters = backbone.fc.in_features\n",
    "        layers = list(backbone.children())[:-1]\n",
    "        self.feature_extractor = torch.nn.Sequential(*layers)\n",
    "\n",
    "        num_target_classes = len(train_dataset_classes)\n",
    "        self.classifier = torch.nn.Linear(num_filters, num_target_classes)\n",
    "\n",
    "        \n",
    "    def forward(self, x):\n",
    "        self.feature_extractor.eval()\n",
    "        with torch.no_grad():\n",
    "            representations = self.feature_extractor(x).flatten(1)\n",
    "        x = self.classifier(representations)\n",
    "        return x\n",
    "    \n",
    "    \n",
    "    def training_step(self, batch, batch_idx):\n",
    "        x, y = batch\n",
    "        pred = self.forward(x)\n",
    "        loss_value = loss(pred, y)\n",
    "        acc.update(pred, y)\n",
    "        self.log('loss/train', loss_value, on_epoch=True)\n",
    "        self.log('accuracy/train', acc.compute(), on_epoch=True)\n",
    "        return loss_value\n",
    "\n",
    "    \n",
    "    def validation_step(self, batch, batch_idx):\n",
    "        x, y = batch\n",
    "        pred = self.forward(x)\n",
    "        loss_value = loss(pred, y)\n",
    "        acc.update(pred, y)\n",
    "        self.log('loss/valid', loss_value, on_epoch=True)\n",
    "        self.log('accuracy/valid', acc.compute(), on_epoch=True)\n",
    "        return loss_value\n",
    "      \n",
    "\n",
    "    def configure_optimizers(self):\n",
    "        optimizer = torch.optim.Adam(self.parameters(), lr=1.0e-3)\n",
    "        lr_scheduler = {\n",
    "            \"scheduler\": torch.optim.lr_scheduler.ReduceLROnPlateau(optimizer, mode='max', factor=0.3, verbose=True),\n",
    "            \"interval\": \"epoch\",\n",
    "            \"frequency\": 1,\n",
    "            \"monitor\": \"accuracy/valid\",\n",
    "            \"strict\": True,\n",
    "            \"name\": None,\n",
    "        }\n",
    "        return {'optimizer': optimizer, 'lr_scheduler': lr_scheduler}"
   ]
  },
  {
   "cell_type": "code",
   "execution_count": 64,
   "id": "135e4a9f",
   "metadata": {},
   "outputs": [],
   "source": [
    "signs = ['3.24', '1.16', '5.15.5', '5.19.1', '5.19.2', '1.20.1', '8.23',\n",
    "'2.1', '4.2.1', '8.22.1', '6.16', '1.22', '1.2', '5.16', '3.27',\n",
    "'6.10.1', '8.2.4', '6.12', '5.15.2', '3.13', '3.1', '3.20', '3.12',\n",
    "'7.14.2', '5.23.1', '2.4', '5.6', '4.2.3', '8.22.3', '5.15.1',\n",
    "'7.3', '3', '2.3.1', '3.11', '6.13', '5.15.4', '8.2.1', '1.34.3',\n",
    "'8.2.2', '5.15.3', '1.17', '4.1.1', '4.1.4', '3.25', '1.20.2',\n",
    "'8.22.2', '6.9.2', '3.2', '5.5', '5.15.7', '7.12', '8.2.3',\n",
    "'5.24.1', '1.25', '3.28', '5.9.1', '5.15.6', '8.1.1', '1.10',\n",
    "'6.11', '3.4', '6.10', '6.9.1', '8.2.5', '5.15', '4.8.2', '8.22',\n",
    "'5.21', '5.18']"
   ]
  },
  {
   "cell_type": "code",
   "execution_count": 159,
   "id": "b0d2cc4f",
   "metadata": {},
   "outputs": [
    {
     "name": "stderr",
     "output_type": "stream",
     "text": [
      "C:\\Users\\prokofyev\\anaconda3\\envs\\signs\\lib\\site-packages\\torchvision\\models\\_utils.py:208: UserWarning: The parameter 'pretrained' is deprecated since 0.13 and will be removed in 0.15, please use 'weights' instead.\n",
      "  warnings.warn(\n",
      "C:\\Users\\prokofyev\\anaconda3\\envs\\signs\\lib\\site-packages\\torchvision\\models\\_utils.py:223: UserWarning: Arguments other than a weight enum or `None` for 'weights' are deprecated since 0.13 and will be removed in 0.15. The current behavior is equivalent to passing `weights=ResNet50_Weights.IMAGENET1K_V1`. You can also use `weights=ResNet50_Weights.DEFAULT` to get the most up-to-date weights.\n",
      "  warnings.warn(msg)\n"
     ]
    }
   ],
   "source": [
    "model = ImagenetTransferLearning.load_from_checkpoint(r\".\\model_55_classes.ckpt\")"
   ]
  },
  {
   "cell_type": "code",
   "execution_count": 238,
   "id": "9c57fbaf",
   "metadata": {},
   "outputs": [],
   "source": [
    "data_type = \"test\""
   ]
  },
  {
   "cell_type": "code",
   "execution_count": 240,
   "id": "12766b1a",
   "metadata": {},
   "outputs": [],
   "source": [
    "data = pd.read_csv(f\"{data_type}.csv\")"
   ]
  },
  {
   "cell_type": "code",
   "execution_count": 247,
   "id": "3c34496c",
   "metadata": {},
   "outputs": [
    {
     "name": "stderr",
     "output_type": "stream",
     "text": [
      "100%|████████████████████████████████████████████████████████████████████████████████| 388/388 [02:46<00:00,  2.33it/s]\n"
     ]
    }
   ],
   "source": [
    "solution = data.copy()\n",
    "\n",
    "solution.drop(\"img\", axis=1, inplace=True)\n",
    "\n",
    "for i in range(1, 9):\n",
    "    solution[f\"sing{i}\"] = 0\n",
    "\n",
    "solution.set_index(\"id\", inplace=True)\n",
    "    \n",
    "for row in tqdm.tqdm(data.iterrows(), total=len(data)):\n",
    "    url = f\"{data_type}/{row[1].id}/*.jpg\"\n",
    "    s = set()\n",
    "\n",
    "    for img_path in glob.glob(url):\n",
    "        image = transform(plt.imread(img_path))\n",
    "        r = model(image.reshape(1, 3, 28, 28))\n",
    "\n",
    "        rs = r.sort()\n",
    "        if (rs.values[0][1:] - rs.values[0][:-1]).max().item() > 12:\n",
    "            j = r.argmax().item()\n",
    "            try:\n",
    "                s.add(signs.index(train_dataset_classes[j]) + 1)\n",
    "            except:\n",
    "                pass\n",
    "            \n",
    "    for i, s2 in enumerate(sorted(s)):\n",
    "        if i > 7:\n",
    "            break\n",
    "        solution.loc[row[1].id, f\"sing{i + 1}\"] = s2\n",
    "    \n",
    "solution.reset_index(inplace=True)"
   ]
  },
  {
   "cell_type": "code",
   "execution_count": 248,
   "id": "238179e0",
   "metadata": {},
   "outputs": [],
   "source": [
    "solution.to_csv(\"solution.csv\", index=False)"
   ]
  },
  {
   "cell_type": "code",
   "execution_count": null,
   "id": "d0a34f1b",
   "metadata": {},
   "outputs": [],
   "source": []
  }
 ],
 "metadata": {
  "kernelspec": {
   "display_name": "Python 3 (ipykernel)",
   "language": "python",
   "name": "python3"
  },
  "language_info": {
   "codemirror_mode": {
    "name": "ipython",
    "version": 3
   },
   "file_extension": ".py",
   "mimetype": "text/x-python",
   "name": "python",
   "nbconvert_exporter": "python",
   "pygments_lexer": "ipython3",
   "version": "3.10.6"
  }
 },
 "nbformat": 4,
 "nbformat_minor": 5
}
